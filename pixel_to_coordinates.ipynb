{
  "cells": [
    {
      "cell_type": "markdown",
      "metadata": {
        "id": "dEv1c43FyjH-"
      },
      "source": [
        "## Overview\n",
        "\n",
        "This script allows you to convert pixel locations within an image to their corresponding x and y coordinates. It includes an interactive widget to speficy the location in the image to get its pixel coordinates. The script handles various image formats."
      ]
    },
    {
      "cell_type": "markdown",
      "metadata": {
        "id": "owd2JjYhxrK7"
      },
      "source": [
        "## Instructions for Users\n",
        "1. **Install and Import Libraries:** Run the first  and Second cell to install and import necessary libraries.\n",
        "2. **Define Functions:** Run the thrid cell to define the functions for reading and displaying images.\n",
        "3. **Create Widgets:** Run the fourth cell to create and display the interactive widgets.\n",
        "4. **Run Conversion:** After uploading an image, use the widgets to specify the image path and toggle interactive mode as needed. The predefined location will be marked on the image and displayed.\n"
      ]
    },
    {
      "cell_type": "markdown",
      "metadata": {
        "id": "R9qW7OUPwN0N"
      },
      "source": [
        "## Install and Import Libraries\n",
        "We install OpenCV and import necessary libraries including OpenCV, IPython widgets, and display functions.\n"
      ]
    },
    {
      "cell_type": "code",
      "execution_count": 7,
      "metadata": {},
      "outputs": [
        {
          "name": "stdout",
          "output_type": "stream",
          "text": [
            "Defaulting to user installation because normal site-packages is not writeable\n",
            "Requirement already satisfied: opencv-python in c:\\users\\hp\\appdata\\roaming\\python\\python310\\site-packages (4.10.0.84)\n",
            "Requirement already satisfied: numpy>=1.17.3 in c:\\users\\hp\\appdata\\roaming\\python\\python310\\site-packages (from opencv-python) (1.24.2)\n"
          ]
        },
        {
          "name": "stderr",
          "output_type": "stream",
          "text": [
            "\n",
            "[notice] A new release of pip available: 22.2.2 -> 24.1.2\n",
            "[notice] To update, run: python.exe -m pip install --upgrade pip\n"
          ]
        },
        {
          "name": "stdout",
          "output_type": "stream",
          "text": [
            "Defaulting to user installation because normal site-packages is not writeable\n",
            "Requirement already satisfied: IPython in c:\\users\\hp\\appdata\\roaming\\python\\python310\\site-packages (8.16.1)\n",
            "Requirement already satisfied: exceptiongroup in c:\\users\\hp\\appdata\\roaming\\python\\python310\\site-packages (from IPython) (1.1.3)\n",
            "Requirement already satisfied: matplotlib-inline in c:\\users\\hp\\appdata\\roaming\\python\\python310\\site-packages (from IPython) (0.1.6)\n",
            "Requirement already satisfied: decorator in c:\\users\\hp\\appdata\\roaming\\python\\python310\\site-packages (from IPython) (5.1.1)\n",
            "Requirement already satisfied: pickleshare in c:\\users\\hp\\appdata\\roaming\\python\\python310\\site-packages (from IPython) (0.7.5)\n",
            "Requirement already satisfied: traitlets>=5 in c:\\users\\hp\\appdata\\roaming\\python\\python310\\site-packages (from IPython) (5.11.2)\n",
            "Requirement already satisfied: colorama in c:\\users\\hp\\appdata\\roaming\\python\\python310\\site-packages (from IPython) (0.4.6)\n",
            "Requirement already satisfied: backcall in c:\\users\\hp\\appdata\\roaming\\python\\python310\\site-packages (from IPython) (0.2.0)\n",
            "Requirement already satisfied: stack-data in c:\\users\\hp\\appdata\\roaming\\python\\python310\\site-packages (from IPython) (0.6.3)\n",
            "Requirement already satisfied: jedi>=0.16 in c:\\users\\hp\\appdata\\roaming\\python\\python310\\site-packages (from IPython) (0.19.1)\n",
            "Requirement already satisfied: prompt-toolkit!=3.0.37,<3.1.0,>=3.0.30 in c:\\users\\hp\\appdata\\roaming\\python\\python310\\site-packages (from IPython) (3.0.39)\n",
            "Requirement already satisfied: pygments>=2.4.0 in c:\\users\\hp\\appdata\\roaming\\python\\python310\\site-packages (from IPython) (2.16.1)\n",
            "Requirement already satisfied: parso<0.9.0,>=0.8.3 in c:\\users\\hp\\appdata\\roaming\\python\\python310\\site-packages (from jedi>=0.16->IPython) (0.8.3)\n",
            "Requirement already satisfied: wcwidth in c:\\users\\hp\\appdata\\roaming\\python\\python310\\site-packages (from prompt-toolkit!=3.0.37,<3.1.0,>=3.0.30->IPython) (0.2.6)\n",
            "Requirement already satisfied: asttokens>=2.1.0 in c:\\users\\hp\\appdata\\roaming\\python\\python310\\site-packages (from stack-data->IPython) (2.4.0)\n",
            "Requirement already satisfied: executing>=1.2.0 in c:\\users\\hp\\appdata\\roaming\\python\\python310\\site-packages (from stack-data->IPython) (2.0.0)\n",
            "Requirement already satisfied: pure-eval in c:\\users\\hp\\appdata\\roaming\\python\\python310\\site-packages (from stack-data->IPython) (0.2.2)\n",
            "Requirement already satisfied: six>=1.12.0 in c:\\users\\hp\\appdata\\roaming\\python\\python310\\site-packages (from asttokens>=2.1.0->stack-data->IPython) (1.16.0)\n"
          ]
        },
        {
          "name": "stderr",
          "output_type": "stream",
          "text": [
            "\n",
            "[notice] A new release of pip available: 22.2.2 -> 24.1.2\n",
            "[notice] To update, run: python.exe -m pip install --upgrade pip\n"
          ]
        },
        {
          "name": "stdout",
          "output_type": "stream",
          "text": [
            "Defaulting to user installation because normal site-packages is not writeable\n",
            "Requirement already satisfied: ipywidgets in c:\\users\\hp\\appdata\\roaming\\python\\python310\\site-packages (8.1.3)\n",
            "Requirement already satisfied: jupyterlab-widgets~=3.0.11 in c:\\users\\hp\\appdata\\roaming\\python\\python310\\site-packages (from ipywidgets) (3.0.11)\n",
            "Requirement already satisfied: comm>=0.1.3 in c:\\users\\hp\\appdata\\roaming\\python\\python310\\site-packages (from ipywidgets) (0.1.4)\n",
            "Requirement already satisfied: ipython>=6.1.0 in c:\\users\\hp\\appdata\\roaming\\python\\python310\\site-packages (from ipywidgets) (8.16.1)\n",
            "Requirement already satisfied: widgetsnbextension~=4.0.11 in c:\\users\\hp\\appdata\\roaming\\python\\python310\\site-packages (from ipywidgets) (4.0.11)\n",
            "Requirement already satisfied: traitlets>=4.3.1 in c:\\users\\hp\\appdata\\roaming\\python\\python310\\site-packages (from ipywidgets) (5.11.2)\n",
            "Requirement already satisfied: colorama in c:\\users\\hp\\appdata\\roaming\\python\\python310\\site-packages (from ipython>=6.1.0->ipywidgets) (0.4.6)\n",
            "Requirement already satisfied: matplotlib-inline in c:\\users\\hp\\appdata\\roaming\\python\\python310\\site-packages (from ipython>=6.1.0->ipywidgets) (0.1.6)\n",
            "Requirement already satisfied: pickleshare in c:\\users\\hp\\appdata\\roaming\\python\\python310\\site-packages (from ipython>=6.1.0->ipywidgets) (0.7.5)\n",
            "Requirement already satisfied: exceptiongroup in c:\\users\\hp\\appdata\\roaming\\python\\python310\\site-packages (from ipython>=6.1.0->ipywidgets) (1.1.3)\n",
            "Requirement already satisfied: pygments>=2.4.0 in c:\\users\\hp\\appdata\\roaming\\python\\python310\\site-packages (from ipython>=6.1.0->ipywidgets) (2.16.1)\n",
            "Requirement already satisfied: stack-data in c:\\users\\hp\\appdata\\roaming\\python\\python310\\site-packages (from ipython>=6.1.0->ipywidgets) (0.6.3)\n",
            "Requirement already satisfied: backcall in c:\\users\\hp\\appdata\\roaming\\python\\python310\\site-packages (from ipython>=6.1.0->ipywidgets) (0.2.0)\n",
            "Requirement already satisfied: decorator in c:\\users\\hp\\appdata\\roaming\\python\\python310\\site-packages (from ipython>=6.1.0->ipywidgets) (5.1.1)\n",
            "Requirement already satisfied: prompt-toolkit!=3.0.37,<3.1.0,>=3.0.30 in c:\\users\\hp\\appdata\\roaming\\python\\python310\\site-packages (from ipython>=6.1.0->ipywidgets) (3.0.39)\n",
            "Requirement already satisfied: jedi>=0.16 in c:\\users\\hp\\appdata\\roaming\\python\\python310\\site-packages (from ipython>=6.1.0->ipywidgets) (0.19.1)\n",
            "Requirement already satisfied: parso<0.9.0,>=0.8.3 in c:\\users\\hp\\appdata\\roaming\\python\\python310\\site-packages (from jedi>=0.16->ipython>=6.1.0->ipywidgets) (0.8.3)\n",
            "Requirement already satisfied: wcwidth in c:\\users\\hp\\appdata\\roaming\\python\\python310\\site-packages (from prompt-toolkit!=3.0.37,<3.1.0,>=3.0.30->ipython>=6.1.0->ipywidgets) (0.2.6)\n",
            "Requirement already satisfied: asttokens>=2.1.0 in c:\\users\\hp\\appdata\\roaming\\python\\python310\\site-packages (from stack-data->ipython>=6.1.0->ipywidgets) (2.4.0)\n",
            "Requirement already satisfied: executing>=1.2.0 in c:\\users\\hp\\appdata\\roaming\\python\\python310\\site-packages (from stack-data->ipython>=6.1.0->ipywidgets) (2.0.0)\n",
            "Requirement already satisfied: pure-eval in c:\\users\\hp\\appdata\\roaming\\python\\python310\\site-packages (from stack-data->ipython>=6.1.0->ipywidgets) (0.2.2)\n",
            "Requirement already satisfied: six>=1.12.0 in c:\\users\\hp\\appdata\\roaming\\python\\python310\\site-packages (from asttokens>=2.1.0->stack-data->ipython>=6.1.0->ipywidgets) (1.16.0)\n"
          ]
        },
        {
          "name": "stderr",
          "output_type": "stream",
          "text": [
            "\n",
            "[notice] A new release of pip available: 22.2.2 -> 24.1.2\n",
            "[notice] To update, run: python.exe -m pip install --upgrade pip\n"
          ]
        }
      ],
      "source": [
        "# Install OpenCV if not already installed\n",
        "!pip install opencv-python\n",
        "!pip install IPython\n",
        "!pip install ipywidgets"
      ]
    },
    {
      "cell_type": "code",
      "execution_count": 8,
      "metadata": {
        "colab": {
          "base_uri": "https://localhost:8080/"
        },
        "id": "FH9X87QAwLCm",
        "outputId": "771e2ff5-94c7-4c24-c7a7-acba5f526eec"
      },
      "outputs": [],
      "source": [
        "import matplotlib.pyplot as plt\n",
        "# Import necessary libraries\n",
        "import cv2\n",
        "import matplotlib.pyplot as plt\n",
        "import ipywidgets as widgets\n",
        "from IPython.display import display"
      ]
    },
    {
      "cell_type": "markdown",
      "metadata": {
        "id": "0YsIQwzIwVoi"
      },
      "source": [
        "## Define Functions\n",
        "We define reqired functions:\n",
        "1. `read_image`: Reads an image from the specified path.\n",
        "2. `display_predefined_location`: Displays the image with a red circle marking a user defined location.\n",
        "3. `click_event` : Callback function to handle mouse events\n",
        "4. `interactive_mode_display` : Opens an image and allows the user to click on it to get pixel coordinates\n"
      ]
    },
    {
      "cell_type": "code",
      "execution_count": 15,
      "metadata": {
        "id": "Ra4ahqaiwVE9"
      },
      "outputs": [],
      "source": [
        "def read_image(image_path):\n",
        "    \"\"\"\n",
        "    Reads an image from the given path.\n",
        "\n",
        "    Parameters:\n",
        "    image_path (str): The path to the image file.\n",
        "\n",
        "    Returns:\n",
        "    image: The read image, or None if an error occurs.\n",
        "    \"\"\"\n",
        "    try:\n",
        "        image = cv2.imread(image_path)\n",
        "        if image is None:\n",
        "            print(f\"Error: Unable to read the image from {image_path}.\")\n",
        "        return image\n",
        "    except Exception as e:\n",
        "        print(f\"Error: {e}\")\n",
        "        return None\n",
        "\n",
        "def display_location(image_path, location):\n",
        "    \"\"\"\n",
        "    Displays an image with a user-specified location marked by a red circle.\n",
        "\n",
        "    Parameters:\n",
        "    image_path (str): The path to the image file.\n",
        "    location (tuple): Coordinates of the location to mark.\n",
        "    \"\"\"\n",
        "    image = read_image(image_path)\n",
        "    if image is None:\n",
        "        return\n",
        "\n",
        "    height, width, _ = image.shape\n",
        "\n",
        "    if not (0 <= location[0] < width and 0 <= location[1] < height):\n",
        "        print(\"ERROR: The coordinates are outside the image.\")\n",
        "        return\n",
        "\n",
        "    cv2.circle(image, location, 5, (0, 0, 255), -1)\n",
        "    print(f\"Location coordinates: {location}\")\n",
        "\n",
        "    # Convert BGR to RGB for displaying with Matplotlib\n",
        "    image_rgb = cv2.cvtColor(image, cv2.COLOR_BGR2RGB)\n",
        "\n",
        "    plt.imshow(image_rgb)\n",
        "    plt.axis('off')\n",
        "    plt.show()\n",
        "\n",
        "clicked_coords = [] \n",
        "\n",
        "def click_event(event, x, y, flags, param):\n",
        "    \"\"\"\n",
        "    Callback function to handle mouse events.\n",
        "    \n",
        "    When the left mouse button is clicked, the coordinates (x, y) are added to\n",
        "    the clicked_coords list and a small red circle is drawn at the click location\n",
        "    on the image displayed in the window.\n",
        "    \n",
        "    Parameters:\n",
        "        event: The type of mouse event.\n",
        "        x: The x-coordinate of the mouse event.\n",
        "        y: The y-coordinate of the mouse event.\n",
        "        flags: Any relevant flags passed by OpenCV.\n",
        "        param: Additional parameters (in this case, the image).\n",
        "    \"\"\"\n",
        "    if event == cv2.EVENT_LBUTTONDOWN:\n",
        "        # Append the coordinates to the global list\n",
        "        clicked_coords.append((x, y))\n",
        "        print(f\"Clicked coordinates: ({x}, {y})\")\n",
        "        \n",
        "        # Draw a small red circle at the clicked location\n",
        "        cv2.circle(param, (x, y), 3, (0, 0, 255), -1)\n",
        "        \n",
        "        # Update the image window with the new circle\n",
        "        cv2.imshow(\"Image\", param)\n",
        "\n",
        "def interactive_mode_display(image_path):\n",
        "    \"\"\"\n",
        "    Opens an image and allows the user to click on it to get pixel coordinates.\n",
        "    \n",
        "    This function opens an image from the given path, displays it in a window,\n",
        "    and allows the user to click on the image to get the pixel coordinates. Each\n",
        "    click will be marked with a small red circle. The function will continue\n",
        "    running until the user presses the 'q' key to quit. After quitting, the\n",
        "    function returns a list of all clicked coordinates.\n",
        "    \n",
        "    Parameters:\n",
        "        image_path: Path to the image file.\n",
        "    \n",
        "    Returns:\n",
        "        List of tuples containing the coordinates of each click.\n",
        "    \"\"\"\n",
        "    # Read the image from the given path\n",
        "    image = cv2.imread(image_path)\n",
        "    if image is None:\n",
        "        print(\"Error: Unable to read the image. Check the path or format.\")\n",
        "        return\n",
        "\n",
        "    # Display the image in a window\n",
        "    cv2.imshow(\"Image\", image)\n",
        "    \n",
        "    # Set the mouse callback function to handle click events\n",
        "    cv2.setMouseCallback(\"Image\", click_event, image)\n",
        "    print(\"Click on the image to get the pixel coordinates. Press 'q' to quit.\")\n",
        "\n",
        "    while True:\n",
        "        # Wait for the 'q' key to be pressed to quit\n",
        "        if cv2.waitKey(1) & 0xFF == ord('q'):\n",
        "            break\n",
        "\n",
        "    # Destroy all OpenCV windows\n",
        "    cv2.destroyAllWindows()\n",
        "    \n",
        "    # Return the list of clicked coordinates\n",
        "    return clicked_coords"
      ]
    },
    {
      "cell_type": "markdown",
      "metadata": {
        "id": "G7aNmHgJxIvm"
      },
      "source": [
        "## Create Widgets for User Interaction\n",
        "This cell creates interactive widgets for user interaction. Users can specify the image path, toggle interactive mode, and input the X and Y coordinates for the location. The `run_conversion` function is called based on user input, displaying the specified location on the image.\n"
      ]
    },
    {
      "cell_type": "code",
      "execution_count": 17,
      "metadata": {
        "colab": {
          "base_uri": "https://localhost:8080/",
          "height": 388,
          "referenced_widgets": [
            "49798eb1869e41d880d20cae7cde3814",
            "b1e5efe0f8934d8dbba48ec06718c17b",
            "09391c33ee5d42a18b7e642bd5d7e828",
            "9aaa664cdd71453c9c4ee971acbf7adc",
            "af8b692353f04953a6bafc5925ec4495",
            "a308252164ce49aea675bb1e9c137695",
            "8dd415e796ef4be09fa5587c852f8c4a",
            "8664f0fdf2ca420e98ac83cc9a177005",
            "349d1dca0c9a4d3f8f13a8390125c4c2",
            "72f3092b88334f268bdbf9d24474138c",
            "8ff7f12b67394cd495d668b05f74cbff",
            "9b11c8e4bbe647d995fa54f8254b2449",
            "b7c8babead5540688a97f841f55716b3",
            "bba5da4e744d4e40bbc05d19f0cdbf67",
            "fec080b007914875a90a8acfd3a35a8a",
            "896884ec09bb422b849f84a975cc2dc6"
          ]
        },
        "id": "Yjn56ieaxEGz",
        "outputId": "78454bbc-42ed-43f8-dece-425b4aba093f"
      },
      "outputs": [
        {
          "data": {
            "application/vnd.jupyter.widget-view+json": {
              "model_id": "3a8f1d2217d642ca91032adb1cb644e9",
              "version_major": 2,
              "version_minor": 0
            },
            "text/plain": [
              "interactive(children=(Checkbox(value=False, description='Interactive Mode'), Text(value='images/default_image.…"
            ]
          },
          "metadata": {},
          "output_type": "display_data"
        }
      ],
      "source": [
        "# Create widgets for user interaction\n",
        "interactive_mode = widgets.Checkbox(value=False, description='Interactive Mode')\n",
        "image_path = widgets.Text(value='images/default_image.jpg', description='Image Path:')\n",
        "location_x = widgets.IntText(value=100, description='Location X:')\n",
        "location_y = widgets.IntText(value=50, description='Location Y:')\n",
        "\n",
        "\n",
        "def run_conversion(interactive, image, x, y):\n",
        "    \"\"\"\n",
        "    Runs the image processing based on the user's selection of interactive mode and location coordinates.\n",
        "\n",
        "    Parameters:\n",
        "    interactive (bool): If True, enables interactive mode (not implemented).\n",
        "    image (str): The path to the image file.\n",
        "    x (int): X-coordinate of the location.\n",
        "    y (int): Y-coordinate of the location.\n",
        "    \"\"\"\n",
        "    location = (x, y)\n",
        "    if interactive:\n",
        "        coords = interactive_mode_display(image)\n",
        "        print(\"Final clicked coordinates: \", coords)\n",
        "    else:\n",
        "        display_location(image, location)\n",
        "\n",
        "# Interactive widget to call the function\n",
        "interactive_widget = widgets.interactive(run_conversion, interactive=interactive_mode, image=image_path, x=location_x, y=location_y)\n",
        "display(interactive_widget)"
      ]
    },
    {
      "cell_type": "markdown",
      "metadata": {
        "id": "KgXkaDj6zE44"
      },
      "source": [
        "## Assumptions\n",
        "- The script assumes the provided image path is valid and the image is in a readable format.\n",
        "- The default image used is `default_image.jpg`.\n",
        "\n",
        "## Notes\n",
        "- The script uses OpenCV for image processing and displaying the image.\n",
        "- The clicked coordinates are stored in a list and printed to the console after you quit the interactive mode.\n",
        "\n",
        "## Troubleshooting\n",
        "- If the image is not displayed, ensure that the image path is correct and the image format is supported by OpenCV.\n",
        "- If the script does not capture clicks, ensure that the OpenCV window is in focus while clicking.\n",
        "\n"
      ]
    }
  ],
  "metadata": {
    "colab": {
      "provenance": []
    },
    "kernelspec": {
      "display_name": "Python 3",
      "name": "python3"
    },
    "language_info": {
      "codemirror_mode": {
        "name": "ipython",
        "version": 3
      },
      "file_extension": ".py",
      "mimetype": "text/x-python",
      "name": "python",
      "nbconvert_exporter": "python",
      "pygments_lexer": "ipython3",
      "version": "3.10.8"
    },
    "widgets": {
      "application/vnd.jupyter.widget-state+json": {
        "09391c33ee5d42a18b7e642bd5d7e828": {
          "model_module": "@jupyter-widgets/controls",
          "model_module_version": "1.5.0",
          "model_name": "TextModel",
          "state": {
            "_dom_classes": [],
            "_model_module": "@jupyter-widgets/controls",
            "_model_module_version": "1.5.0",
            "_model_name": "TextModel",
            "_view_count": null,
            "_view_module": "@jupyter-widgets/controls",
            "_view_module_version": "1.5.0",
            "_view_name": "TextView",
            "continuous_update": true,
            "description": "Image Path:",
            "description_tooltip": null,
            "disabled": false,
            "layout": "IPY_MODEL_72f3092b88334f268bdbf9d24474138c",
            "placeholder": "​",
            "style": "IPY_MODEL_8ff7f12b67394cd495d668b05f74cbff",
            "value": "images.jpg"
          }
        },
        "349d1dca0c9a4d3f8f13a8390125c4c2": {
          "model_module": "@jupyter-widgets/controls",
          "model_module_version": "1.5.0",
          "model_name": "DescriptionStyleModel",
          "state": {
            "_model_module": "@jupyter-widgets/controls",
            "_model_module_version": "1.5.0",
            "_model_name": "DescriptionStyleModel",
            "_view_count": null,
            "_view_module": "@jupyter-widgets/base",
            "_view_module_version": "1.2.0",
            "_view_name": "StyleView",
            "description_width": ""
          }
        },
        "49798eb1869e41d880d20cae7cde3814": {
          "model_module": "@jupyter-widgets/controls",
          "model_module_version": "1.5.0",
          "model_name": "VBoxModel",
          "state": {
            "_dom_classes": [
              "widget-interact"
            ],
            "_model_module": "@jupyter-widgets/controls",
            "_model_module_version": "1.5.0",
            "_model_name": "VBoxModel",
            "_view_count": null,
            "_view_module": "@jupyter-widgets/controls",
            "_view_module_version": "1.5.0",
            "_view_name": "VBoxView",
            "box_style": "",
            "children": [
              "IPY_MODEL_b1e5efe0f8934d8dbba48ec06718c17b",
              "IPY_MODEL_09391c33ee5d42a18b7e642bd5d7e828",
              "IPY_MODEL_9aaa664cdd71453c9c4ee971acbf7adc",
              "IPY_MODEL_af8b692353f04953a6bafc5925ec4495",
              "IPY_MODEL_a308252164ce49aea675bb1e9c137695"
            ],
            "layout": "IPY_MODEL_8dd415e796ef4be09fa5587c852f8c4a"
          }
        },
        "72f3092b88334f268bdbf9d24474138c": {
          "model_module": "@jupyter-widgets/base",
          "model_module_version": "1.2.0",
          "model_name": "LayoutModel",
          "state": {
            "_model_module": "@jupyter-widgets/base",
            "_model_module_version": "1.2.0",
            "_model_name": "LayoutModel",
            "_view_count": null,
            "_view_module": "@jupyter-widgets/base",
            "_view_module_version": "1.2.0",
            "_view_name": "LayoutView",
            "align_content": null,
            "align_items": null,
            "align_self": null,
            "border": null,
            "bottom": null,
            "display": null,
            "flex": null,
            "flex_flow": null,
            "grid_area": null,
            "grid_auto_columns": null,
            "grid_auto_flow": null,
            "grid_auto_rows": null,
            "grid_column": null,
            "grid_gap": null,
            "grid_row": null,
            "grid_template_areas": null,
            "grid_template_columns": null,
            "grid_template_rows": null,
            "height": null,
            "justify_content": null,
            "justify_items": null,
            "left": null,
            "margin": null,
            "max_height": null,
            "max_width": null,
            "min_height": null,
            "min_width": null,
            "object_fit": null,
            "object_position": null,
            "order": null,
            "overflow": null,
            "overflow_x": null,
            "overflow_y": null,
            "padding": null,
            "right": null,
            "top": null,
            "visibility": null,
            "width": null
          }
        },
        "8664f0fdf2ca420e98ac83cc9a177005": {
          "model_module": "@jupyter-widgets/base",
          "model_module_version": "1.2.0",
          "model_name": "LayoutModel",
          "state": {
            "_model_module": "@jupyter-widgets/base",
            "_model_module_version": "1.2.0",
            "_model_name": "LayoutModel",
            "_view_count": null,
            "_view_module": "@jupyter-widgets/base",
            "_view_module_version": "1.2.0",
            "_view_name": "LayoutView",
            "align_content": null,
            "align_items": null,
            "align_self": null,
            "border": null,
            "bottom": null,
            "display": null,
            "flex": null,
            "flex_flow": null,
            "grid_area": null,
            "grid_auto_columns": null,
            "grid_auto_flow": null,
            "grid_auto_rows": null,
            "grid_column": null,
            "grid_gap": null,
            "grid_row": null,
            "grid_template_areas": null,
            "grid_template_columns": null,
            "grid_template_rows": null,
            "height": null,
            "justify_content": null,
            "justify_items": null,
            "left": null,
            "margin": null,
            "max_height": null,
            "max_width": null,
            "min_height": null,
            "min_width": null,
            "object_fit": null,
            "object_position": null,
            "order": null,
            "overflow": null,
            "overflow_x": null,
            "overflow_y": null,
            "padding": null,
            "right": null,
            "top": null,
            "visibility": null,
            "width": null
          }
        },
        "896884ec09bb422b849f84a975cc2dc6": {
          "model_module": "@jupyter-widgets/base",
          "model_module_version": "1.2.0",
          "model_name": "LayoutModel",
          "state": {
            "_model_module": "@jupyter-widgets/base",
            "_model_module_version": "1.2.0",
            "_model_name": "LayoutModel",
            "_view_count": null,
            "_view_module": "@jupyter-widgets/base",
            "_view_module_version": "1.2.0",
            "_view_name": "LayoutView",
            "align_content": null,
            "align_items": null,
            "align_self": null,
            "border": null,
            "bottom": null,
            "display": null,
            "flex": null,
            "flex_flow": null,
            "grid_area": null,
            "grid_auto_columns": null,
            "grid_auto_flow": null,
            "grid_auto_rows": null,
            "grid_column": null,
            "grid_gap": null,
            "grid_row": null,
            "grid_template_areas": null,
            "grid_template_columns": null,
            "grid_template_rows": null,
            "height": null,
            "justify_content": null,
            "justify_items": null,
            "left": null,
            "margin": null,
            "max_height": null,
            "max_width": null,
            "min_height": null,
            "min_width": null,
            "object_fit": null,
            "object_position": null,
            "order": null,
            "overflow": null,
            "overflow_x": null,
            "overflow_y": null,
            "padding": null,
            "right": null,
            "top": null,
            "visibility": null,
            "width": null
          }
        },
        "8dd415e796ef4be09fa5587c852f8c4a": {
          "model_module": "@jupyter-widgets/base",
          "model_module_version": "1.2.0",
          "model_name": "LayoutModel",
          "state": {
            "_model_module": "@jupyter-widgets/base",
            "_model_module_version": "1.2.0",
            "_model_name": "LayoutModel",
            "_view_count": null,
            "_view_module": "@jupyter-widgets/base",
            "_view_module_version": "1.2.0",
            "_view_name": "LayoutView",
            "align_content": null,
            "align_items": null,
            "align_self": null,
            "border": null,
            "bottom": null,
            "display": null,
            "flex": null,
            "flex_flow": null,
            "grid_area": null,
            "grid_auto_columns": null,
            "grid_auto_flow": null,
            "grid_auto_rows": null,
            "grid_column": null,
            "grid_gap": null,
            "grid_row": null,
            "grid_template_areas": null,
            "grid_template_columns": null,
            "grid_template_rows": null,
            "height": null,
            "justify_content": null,
            "justify_items": null,
            "left": null,
            "margin": null,
            "max_height": null,
            "max_width": null,
            "min_height": null,
            "min_width": null,
            "object_fit": null,
            "object_position": null,
            "order": null,
            "overflow": null,
            "overflow_x": null,
            "overflow_y": null,
            "padding": null,
            "right": null,
            "top": null,
            "visibility": null,
            "width": null
          }
        },
        "8ff7f12b67394cd495d668b05f74cbff": {
          "model_module": "@jupyter-widgets/controls",
          "model_module_version": "1.5.0",
          "model_name": "DescriptionStyleModel",
          "state": {
            "_model_module": "@jupyter-widgets/controls",
            "_model_module_version": "1.5.0",
            "_model_name": "DescriptionStyleModel",
            "_view_count": null,
            "_view_module": "@jupyter-widgets/base",
            "_view_module_version": "1.2.0",
            "_view_name": "StyleView",
            "description_width": ""
          }
        },
        "9aaa664cdd71453c9c4ee971acbf7adc": {
          "model_module": "@jupyter-widgets/controls",
          "model_module_version": "1.5.0",
          "model_name": "IntTextModel",
          "state": {
            "_dom_classes": [],
            "_model_module": "@jupyter-widgets/controls",
            "_model_module_version": "1.5.0",
            "_model_name": "IntTextModel",
            "_view_count": null,
            "_view_module": "@jupyter-widgets/controls",
            "_view_module_version": "1.5.0",
            "_view_name": "IntTextView",
            "continuous_update": false,
            "description": "Location X:",
            "description_tooltip": null,
            "disabled": false,
            "layout": "IPY_MODEL_9b11c8e4bbe647d995fa54f8254b2449",
            "step": 1,
            "style": "IPY_MODEL_b7c8babead5540688a97f841f55716b3",
            "value": 100
          }
        },
        "9b11c8e4bbe647d995fa54f8254b2449": {
          "model_module": "@jupyter-widgets/base",
          "model_module_version": "1.2.0",
          "model_name": "LayoutModel",
          "state": {
            "_model_module": "@jupyter-widgets/base",
            "_model_module_version": "1.2.0",
            "_model_name": "LayoutModel",
            "_view_count": null,
            "_view_module": "@jupyter-widgets/base",
            "_view_module_version": "1.2.0",
            "_view_name": "LayoutView",
            "align_content": null,
            "align_items": null,
            "align_self": null,
            "border": null,
            "bottom": null,
            "display": null,
            "flex": null,
            "flex_flow": null,
            "grid_area": null,
            "grid_auto_columns": null,
            "grid_auto_flow": null,
            "grid_auto_rows": null,
            "grid_column": null,
            "grid_gap": null,
            "grid_row": null,
            "grid_template_areas": null,
            "grid_template_columns": null,
            "grid_template_rows": null,
            "height": null,
            "justify_content": null,
            "justify_items": null,
            "left": null,
            "margin": null,
            "max_height": null,
            "max_width": null,
            "min_height": null,
            "min_width": null,
            "object_fit": null,
            "object_position": null,
            "order": null,
            "overflow": null,
            "overflow_x": null,
            "overflow_y": null,
            "padding": null,
            "right": null,
            "top": null,
            "visibility": null,
            "width": null
          }
        },
        "a308252164ce49aea675bb1e9c137695": {
          "model_module": "@jupyter-widgets/output",
          "model_module_version": "1.0.0",
          "model_name": "OutputModel",
          "state": {
            "_dom_classes": [],
            "_model_module": "@jupyter-widgets/output",
            "_model_module_version": "1.0.0",
            "_model_name": "OutputModel",
            "_view_count": null,
            "_view_module": "@jupyter-widgets/output",
            "_view_module_version": "1.0.0",
            "_view_name": "OutputView",
            "layout": "IPY_MODEL_896884ec09bb422b849f84a975cc2dc6",
            "msg_id": "",
            "outputs": [
              {
                "name": "stdout",
                "output_type": "stream",
                "text": [
                  "Location coordinates: (100, 50)\n"
                ]
              },
              {
                "data": {
                  "image/png": "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\n",
                  "text/plain": "<PIL.Image.Image image mode=RGB size=225x224>"
                },
                "metadata": {},
                "output_type": "display_data"
              }
            ]
          }
        },
        "af8b692353f04953a6bafc5925ec4495": {
          "model_module": "@jupyter-widgets/controls",
          "model_module_version": "1.5.0",
          "model_name": "IntTextModel",
          "state": {
            "_dom_classes": [],
            "_model_module": "@jupyter-widgets/controls",
            "_model_module_version": "1.5.0",
            "_model_name": "IntTextModel",
            "_view_count": null,
            "_view_module": "@jupyter-widgets/controls",
            "_view_module_version": "1.5.0",
            "_view_name": "IntTextView",
            "continuous_update": false,
            "description": "Location Y:",
            "description_tooltip": null,
            "disabled": false,
            "layout": "IPY_MODEL_bba5da4e744d4e40bbc05d19f0cdbf67",
            "step": 1,
            "style": "IPY_MODEL_fec080b007914875a90a8acfd3a35a8a",
            "value": 50
          }
        },
        "b1e5efe0f8934d8dbba48ec06718c17b": {
          "model_module": "@jupyter-widgets/controls",
          "model_module_version": "1.5.0",
          "model_name": "CheckboxModel",
          "state": {
            "_dom_classes": [],
            "_model_module": "@jupyter-widgets/controls",
            "_model_module_version": "1.5.0",
            "_model_name": "CheckboxModel",
            "_view_count": null,
            "_view_module": "@jupyter-widgets/controls",
            "_view_module_version": "1.5.0",
            "_view_name": "CheckboxView",
            "description": "Interactive Mode",
            "description_tooltip": null,
            "disabled": false,
            "indent": true,
            "layout": "IPY_MODEL_8664f0fdf2ca420e98ac83cc9a177005",
            "style": "IPY_MODEL_349d1dca0c9a4d3f8f13a8390125c4c2",
            "value": false
          }
        },
        "b7c8babead5540688a97f841f55716b3": {
          "model_module": "@jupyter-widgets/controls",
          "model_module_version": "1.5.0",
          "model_name": "DescriptionStyleModel",
          "state": {
            "_model_module": "@jupyter-widgets/controls",
            "_model_module_version": "1.5.0",
            "_model_name": "DescriptionStyleModel",
            "_view_count": null,
            "_view_module": "@jupyter-widgets/base",
            "_view_module_version": "1.2.0",
            "_view_name": "StyleView",
            "description_width": ""
          }
        },
        "bba5da4e744d4e40bbc05d19f0cdbf67": {
          "model_module": "@jupyter-widgets/base",
          "model_module_version": "1.2.0",
          "model_name": "LayoutModel",
          "state": {
            "_model_module": "@jupyter-widgets/base",
            "_model_module_version": "1.2.0",
            "_model_name": "LayoutModel",
            "_view_count": null,
            "_view_module": "@jupyter-widgets/base",
            "_view_module_version": "1.2.0",
            "_view_name": "LayoutView",
            "align_content": null,
            "align_items": null,
            "align_self": null,
            "border": null,
            "bottom": null,
            "display": null,
            "flex": null,
            "flex_flow": null,
            "grid_area": null,
            "grid_auto_columns": null,
            "grid_auto_flow": null,
            "grid_auto_rows": null,
            "grid_column": null,
            "grid_gap": null,
            "grid_row": null,
            "grid_template_areas": null,
            "grid_template_columns": null,
            "grid_template_rows": null,
            "height": null,
            "justify_content": null,
            "justify_items": null,
            "left": null,
            "margin": null,
            "max_height": null,
            "max_width": null,
            "min_height": null,
            "min_width": null,
            "object_fit": null,
            "object_position": null,
            "order": null,
            "overflow": null,
            "overflow_x": null,
            "overflow_y": null,
            "padding": null,
            "right": null,
            "top": null,
            "visibility": null,
            "width": null
          }
        },
        "fec080b007914875a90a8acfd3a35a8a": {
          "model_module": "@jupyter-widgets/controls",
          "model_module_version": "1.5.0",
          "model_name": "DescriptionStyleModel",
          "state": {
            "_model_module": "@jupyter-widgets/controls",
            "_model_module_version": "1.5.0",
            "_model_name": "DescriptionStyleModel",
            "_view_count": null,
            "_view_module": "@jupyter-widgets/base",
            "_view_module_version": "1.2.0",
            "_view_name": "StyleView",
            "description_width": ""
          }
        }
      }
    }
  },
  "nbformat": 4,
  "nbformat_minor": 0
}
